{
 "cells": [
  {
   "cell_type": "markdown",
   "metadata": {},
   "source": [
    "# Margaret Johnston\n",
    "\n",
    "Lecture 1: Homework\n",
    "\n",
    "1. Problem 2 of Chapter 1\n",
    "\n",
    "A CCD detector at the focal plane of a 1m diameter telescope records the image of a certain star. Due to the blurring effects of the atmosphere, the light from the star is spread over a circular area of radius $R$ pixels. The total number of photoelectrons over this area, accumulated during the exposure, and due to the light of the star, is $N_{star}$. Light from the sky produces $n_{sky}$ photoelctrons per pixel in the same exposure."
   ]
  },
  {
   "cell_type": "markdown",
   "metadata": {},
   "source": [
    "a. Calculate the signal to noise ratio ($S/N$) of the photometric measurement of the star (the ratio of the counts from the star to the uncertainty in this measurement). Assume Poisson statistics (the noise is the square root of the total counts) from all sources.\n",
    "\n",
    "$S/N_{a} = \\frac{N_{star}}{\\sqrt{N_{star}+n_{sky}\\pi R^{2}}}$"
   ]
  },
  {
   "cell_type": "markdown",
   "metadata": {},
   "source": [
    "b. The same star is observed with the same exposure time, but with a 10m diameter telescope. This larger telescope naturally has a larger light gathering area, but also is at a site with a more stable atmosphere, and therfore has 3 times better seeing (the light from the star is spread over an area of radius $R/3$). Find the $S/N$ in this case.\n",
    "\n",
    "$S/N_{b}=\\frac{10^{2}N_{star}}{\\sqrt{10^{2}N_{star}+10^{2}n_{sky}\\pi(\\frac{R}{3})^{2}}}=\\frac{N_{star}}{\\sqrt{N_{star}+n_{sky}\\pi(\\frac{R}{3})^{2}}}\\frac{10^{2}}{10}=\\frac{10 N_{star}}{\\sqrt{N_{star}+n_{sky}\\pi\\frac{R^2}{9}}}$"
   ]
  },
  {
   "cell_type": "markdown",
   "metadata": {},
   "source": [
    "c. Assuming that the star and the sky are not variable (photons arrive from them at a constant rate), find the functional dependence of the $S/N$ on exposure time, $t$, in two limiting cases: the counts from the star are much greater than the counts from the sky in the \"seeing disk\" (this is the \"source limited\" case); and vice versa, where the counts from the sky are much greater than the counts from the star (this is the \"background limited\" case).\n",
    "\n",
    "$S/N = \\frac{N_{star}}{\\sqrt{N_{star}+n_{sky}\\pi R^{2}}} = \\frac{r_{star}t}{\\sqrt{r_{star}t+r_{sky}t\\pi R^{2}}} = \\frac{r_{star}t}{\\sqrt{(r_{star}+r_{sky}\\pi R^{2})t}} = \\frac{r_{star}}{\\sqrt{r_{star}+r_{sky}\\pi R^{2}}} \\frac{t}{\\sqrt{t}}$\n",
    "\n",
    "$S/N \\approx \\sqrt{t}$\n",
    "\n",
    "For both limited cases, the time dependence of $S/N$ is proportional to the square root of the collection time."
   ]
  },
  {
   "cell_type": "markdown",
   "metadata": {},
   "source": [
    "d. Based on the results of part c, by what factor does the exposure time with the 1m telescope need to be increased to reach the $S/N$ obtained with the 10m telescope, for each of the two limiting case?\n",
    "\n",
    "$t_{equivalent} = \\frac{S/N_{b}}{S/N_{a}}$\n",
    "\n",
    "$t_{equivalent} = S/N_{b}\\frac{1}{S/N_{a}}$\n",
    "\n",
    "$t_{equivalent} = \\frac{10 N_{star}}{\\sqrt{N_{star}+n_{sky}\\pi\\frac{R^2}{9}}} \\frac{\\sqrt{N_{star}+n_{sky}\\pi R^{2}}}{N_{star}} = 10\\frac{\\sqrt{N_{star}+n_{sky}\\pi R^{2}}}{\\sqrt{N_{star}+n_{sky}\\pi\\frac{R^2}{9}}}$"
   ]
  },
  {
   "cell_type": "markdown",
   "metadata": {},
   "source": [
    "$t_{source} \\approx 10 \\frac{\\sqrt{N_{star}}}{\\sqrt{N_{star}}} = 10$\n",
    "\n",
    "The smaller telescope would need approximately 10 times longer to produce an image with similar signal to noise in the case where the source light is stronger than the background light."
   ]
  },
  {
   "cell_type": "markdown",
   "metadata": {},
   "source": [
    "$t_{background} \\approx 10 \\frac{\\sqrt{n_{sky}\\pi R^2}}{\\sqrt{n_{sky} \\pi \\frac{R^2}{9}}} = 10 \\times 3 = 30$\n",
    "\n",
    "The smaller telescope would need approximately 30 times longer to produce an image with similar signal to noise in the case where the background light is stronger than the source light."
   ]
  },
  {
   "cell_type": "code",
   "execution_count": null,
   "metadata": {},
   "outputs": [],
   "source": [
    "# My numerical factors don't agree with the answers in the book. Is this due to an incorrect simplification at the limits?\n",
    "# The trend is correct, we expect the smaller telescope to require much more time than the larger telescope, just based on the improvement of the larger collecting surface. And the better location also improves the background limited case because of the better seeing."
   ]
  },
  {
   "cell_type": "markdown",
   "metadata": {},
   "source": [
    "2. Problem 1 of Chapter 2"
   ]
  },
  {
   "cell_type": "markdown",
   "metadata": {},
   "source": [
    "a. If the sun subtends a solid angle $\\Omega$ on the sky, and the flux from the sun just above the Earth's atmosphere, integrated overall wavelengths, is $f(d_{sun})$, show that the flux at the solar photosphere is $\\pi f(d_{sun})/\\Omega$\n",
    "\n",
    "$F_{photosphere}=F_{Earth} \\times area = f(d_{sun}) \\frac{\\pi}{\\Omega}$"
   ]
  },
  {
   "cell_type": "markdown",
   "metadata": {},
   "source": [
    "b. The angular diameter of the sun is $d_{angle}=0.57 $degree $= 0.00995$ rad. Claculate the solid angle subtended in steradians.\n",
    "\n",
    "$\\Omega = \\frac{A}{d^2} = \\pi (\\frac{d_{angle}}{2})^2 = \\pi (\\frac{0.00995}{2})^2$\n",
    "\n",
    "$\\Omega = 7.77 \\times 10^{-5}$"
   ]
  },
  {
   "cell_type": "markdown",
   "metadata": {},
   "source": [
    "c. The solar flux at Earth is \n",
    "\n",
    "$f(d_{sun}) = 1.4 \\times 10^6 erg s^{-1} cm^{-2} = 1.4 kW m^{-2}$\n",
    "\n",
    "Use (b) and the Stefan-Blotzmann law to derive the effective surface temperature of the Sun.\n",
    "\n",
    "$\\int B_{\\nu} d\\nu = \\frac{\\sigma T^4}{\\pi} \\times \\Omega$\n",
    "\n",
    "$f(d_{sun}) = \\frac{\\Omega \\sigma T^4}{\\pi} \\rightarrow T^4 = f(d_{sun}) \\frac{\\pi}{\\Omega \\sigma}$\n",
    "\n",
    "$T^4 = \\frac{1400 W m^{-2} \\pi}{7.77 \\times 10^{-5} \\space 5.67 \\times 10^{-8} W m^{-2} K^{-4}}$\n",
    "\n",
    "$T_{eff}= (9.98 \\times 10^{14})^{\\frac{1}{4}} = 5600 K$"
   ]
  },
  {
   "cell_type": "markdown",
   "metadata": {},
   "source": [
    "Derive an expression for the surface temperature of the Sun, in terms only of its solid angle, flux per unit wavelength $f_{\\lambda}(\\lambda_1)$ at Earth at one wavelength $\\lambda_1$, and fundamental constants.\n",
    "\n",
    "$\\int B_{\\nu} d\\nu = \\frac{\\sigma T^4}{\\pi} \\times \\Omega$\n",
    "\n",
    "$f_{\\lambda}(\\lambda_1) = \\frac{\\Omega \\sigma T^4}{\\pi} \\rightarrow T^4 = f_{\\lambda}(\\lambda_1)\\frac{\\pi}{\\Omega \\sigma}$\n",
    "\n",
    "$T_{surface} = (f_{\\lambda}(\\lambda_1)\\frac{\\pi}{\\Omega \\sigma})^{\\frac{1}{4}}$"
   ]
  },
  {
   "cell_type": "code",
   "execution_count": null,
   "metadata": {},
   "outputs": [],
   "source": []
  }
 ],
 "metadata": {
  "kernelspec": {
   "display_name": "Python 3",
   "language": "python",
   "name": "python3"
  },
  "language_info": {
   "codemirror_mode": {
    "name": "ipython",
    "version": 3
   },
   "file_extension": ".py",
   "mimetype": "text/x-python",
   "name": "python",
   "nbconvert_exporter": "python",
   "pygments_lexer": "ipython3",
   "version": "3.7.3"
  }
 },
 "nbformat": 4,
 "nbformat_minor": 4
}
