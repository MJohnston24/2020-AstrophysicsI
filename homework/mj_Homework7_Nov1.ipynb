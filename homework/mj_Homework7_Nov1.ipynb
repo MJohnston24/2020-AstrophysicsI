{
 "cells": [
  {
   "cell_type": "markdown",
   "metadata": {},
   "source": [
    "# Margaret Johnston\n",
    "\n",
    "Chapter 5, problem 5 and 6"
   ]
  },
  {
   "cell_type": "code",
   "execution_count": 1,
   "metadata": {},
   "outputs": [],
   "source": [
    "# cgs unit, length unit is cm, mass unit is gram, time unit is second\n",
    "import numpy as np\n",
    "\n",
    "sigmacont=5.67051e-5\n",
    "acont=7.5657e-15\n",
    "ev=1.602e-12\n",
    "hcont=6.625e-27\n",
    "ccont=3.e10\n",
    "kcont=1.381e-16\n",
    "rcont=8.314472e7\n",
    "me=9.109e-28\n",
    "Gcont=6.67e-8\n",
    "Msun=1.989e33\n",
    "Mearth=5.972e27\n",
    "Mjupiter=1.898e30\n",
    "Lsun=3.827e33\n",
    "rsun=6.96e10\n",
    "rjupiter=7.149e9\n",
    "rearth=6.371e8\n",
    "au=1.49598e13\n",
    "pc=3.085678e18\n",
    "mh=1.67352e-24\n",
    "yr=365.*24.*3600\n",
    "pi=3.1415926\n",
    "\n",
    "km=1e5\n",
    "day=24*3600\n",
    "qe=1.602176634e-20"
   ]
  },
  {
   "cell_type": "markdown",
   "metadata": {},
   "source": [
    "5. \n",
    "For strong shocks in general, and specifically for adiabatic index $\\gamma =5/3$, find the ratios between the following energies and the kinetic energy per unit mass of the inflowing upstream gas in the shock frame, $E_{k,0}=\\frac{v_0^2}{2}$\n",
    "\n",
    "a) the thermal energy per unit mass, $\\epsilon$, of the shocked gas\n",
    "\n",
    "b) the kinetic energy per unit mass of the shocked gas, in the shock frame\n",
    "\n",
    "c) the kinetic energy per unit mass of the shocked gas, in the lab frame\n"
   ]
  },
  {
   "cell_type": "markdown",
   "metadata": {},
   "source": [
    "a) \n",
    "\n",
    "$\\epsilon=\\frac{1}{\\gamma-1}\\frac{P_{1}}{\\rho_{1}}=\\frac{3}{2}\\frac{P_{1}}{\\rho_{1}} \\\\\n",
    "\\frac{\\epsilon}{E_{k.0}}=\\frac{3}{v_{0}^{2}}\\frac{P_{1}}{\\rho_{1}} \\\\\n",
    "v_{0}^{2}=\\frac{P_{0}-P_{1}}{\\rho_{0}(\\frac{\\rho_{0}}{\\rho_{1}}-1)} \\\\\n",
    "\\frac{\\epsilon}{E_{k.0}}=3\\frac{\\rho_{0}(\\frac{\\rho_{0}}{\\rho_{1}}-1)}{\\rho_{1}}\\frac{P_{1}}{P_{0}-P_{1}} \\\\\n",
    "\\frac{\\epsilon}{E_{k.0}}=3\\frac{\\gamma-1}{\\gamma+1}(\\frac{\\gamma-1}{\\gamma+1}-1)\\frac{P_{1}}{P_{0}-P_{1}} \\\\\n",
    "\\frac{\\epsilon}{E_{k.0}}=3(\\frac{1}{4})(\\frac{-3}{4})(-1) \\\\\n",
    "\\boxed{\\frac{\\epsilon}{E_{k.0}}=\\frac{9}{16}}$\n",
    "\n",
    "b)\n",
    "\n",
    "$E_{k,1}=\\frac{v_{1}^{2}}{2} \\\\\n",
    "\\frac{E_{k,1}}{E_{k,0}}=\\frac{v_{1}^{2}}{v_{0}^{2}}=\\left(\\frac{\\gamma-1}{\\gamma+1}\\right)^{2}=(\\frac{2/3}{8/3})^{2}=(\\frac{1}{4})^{2} \\\\\n",
    "\\boxed{\\frac{E_{k,1}}{E_{k,0}}=\\frac{1}{16}}$\n",
    "\n",
    "c)\n",
    "\n",
    "$E_{k,1}=\\frac{v^{2}}{2}=\\frac{(v_{0}-v_{1})^{2}}{2} \\\\\n",
    "\\frac{E_{k,1}}{E_{k,0}}=\\frac{(v_{0}-v_{1})^{2}}{v_{0}^{2}} \\\\\n",
    "\\frac{E_{k,1}}{E_{k,0}}=\\left(1-\\frac{v_{1}}{v_{0}}\\right)^{2}=(1-\\frac{1}{4})^{2} \\\\\n",
    "\\boxed{\\frac{E_{k,1}}{E_{k,0}}=\\frac{9}{16}}$"
   ]
  },
  {
   "cell_type": "markdown",
   "metadata": {},
   "source": [
    "6. \n",
    "In the supernova remnant SNR1006 observations spaced over several years show that the outer X-ray emitting rim, which traces the forward shock, is expanding at a velocity $v_0=6000 km/s$. When observed in synchrotron radiation at photon energy of $h\\nu_{sync}=4keV$, the width of the rim is $d=0.1 pc$. One explanation for the thin rim is that its width corresponds to the distance traveled by the emitting electrons until they lose their energy to synchrotron radiation.\n",
    "\n",
    "a) Assume the electrons are advecated with the downstream gas, and hence recede from the strong forward shock at a constant velocity $v_1=\\frac{v_0}{4}$. Find the magnetic field $B$ behind the shock (assuming it is uniform), and the energies of the electrons that radiate at $4 keV$.\n",
    "\n",
    "b) If this scenario is correct, what should be the rim width at synchrotron photon energies of $1 keV$? If the rim width were instead found to be independent of energy, what could be an alternative explanation?"
   ]
  },
  {
   "cell_type": "markdown",
   "metadata": {},
   "source": [
    "Taking eq (5.93) and eq (5.98) we can solve for B as a function of $\\nu_{sync}$, $d$, $v_0$, and $v_1$\n",
    "\n",
    "$t_{cool}=\\frac{d}{v}=\\frac{d}{v_{0}-v_{1}} \\\\\n",
    "\\gamma=10yr\\frac{1}{B^{2}t}=10yr\\frac{v_{0}-v_{1}}{B^{2}d} \\\\\n",
    "B=\\frac{\\nu_{sync}}{4.2MHz}\\frac{1}{\\gamma^{2}}=\\frac{\\nu_{sync}}{4.2MHz}(\\frac{B^{2}d}{10(v_{0}-v_{1})})^{2} \\\\\n",
    "B=(\\frac{\\nu_{sync}}{4.2MHz}(\\frac{d}{10(v_{0}-v_{1})})^{2})^{-1/3}$"
   ]
  },
  {
   "cell_type": "code",
   "execution_count": 2,
   "metadata": {},
   "outputs": [
    {
     "name": "stdout",
     "output_type": "stream",
     "text": [
      "the magnetic field is 9.74e-10 Gauss\n",
      "gamma is 1.54e+10\n",
      "the electrons have energy is 7.87e+15 eV\n"
     ]
    }
   ],
   "source": [
    "# part a\n",
    "# calculating B\n",
    "nu=4000*ev/hcont\n",
    "d=0.1*pc\n",
    "v0=6000*km\n",
    "v1=v0/4\n",
    "B=((4.2e6/nu)*(10*(v0-v1)/d)**2)**(1/3)\n",
    "print(\"the magnetic field is {:.2e} Gauss\".format(B))\n",
    "\n",
    "# calculating gamma\n",
    "gam=10*(v0-v1)/(B**2*d)\n",
    "print(\"gamma is {:.2e}\".format(gam))\n",
    "\n",
    "# calculating E\n",
    "E=gam*me*ccont**2\n",
    "print(\"the electrons have energy is {:.2e} eV\".format(E/ev))"
   ]
  },
  {
   "cell_type": "markdown",
   "metadata": {},
   "source": [
    "b)\n",
    "\n",
    "$B=(\\frac{\\nu_{sync}}{4.2MHz}(\\frac{d}{10(v_{0}-v_{1})})^{2})^{-1/3} \\\\\n",
    "B^{-3}=\\frac{\\nu_{sync}}{4.2MHz}(\\frac{d}{10(v_{0}-v_{1})})^{2} \\\\\n",
    "(\\frac{d}{10(v_{0}-v_{1})})^{2}=\\frac{4.2MHz}{B^{3}\\nu_{sync}} \\\\\n",
    "d=\\sqrt{\\frac{4.2MHz}{B^{3}\\nu_{sync}}}10(v_{0}-v_{1})$"
   ]
  },
  {
   "cell_type": "code",
   "execution_count": 52,
   "metadata": {},
   "outputs": [
    {
     "name": "stdout",
     "output_type": "stream",
     "text": [
      "the thickness of the shell would be 0.2 pc\n"
     ]
    }
   ],
   "source": [
    "# part b\n",
    "# solving for d when nu=1keV\n",
    "nu1=1000*ev/hcont\n",
    "d1kev=10*(v0-v1)*np.sqrt(4.2e6/B**3/nu1)\n",
    "print(\"the thickness of the shell would be {:.1f} pc\".format(d1kev/pc))"
   ]
  },
  {
   "cell_type": "markdown",
   "metadata": {},
   "source": [
    "An explanation for the larger rim thickness being associated with the smaller photon energy:\n",
    "\n",
    "The rim is controlled by the fraction of the electron's energy that is released by each syncrotron photon.\n",
    "\n",
    "Larger initial energies of the electron would imply larger rim thickness, as would smaller syncrotron photon energies. The electron would lose less energy per photon, and so last a larger distance."
   ]
  },
  {
   "cell_type": "code",
   "execution_count": null,
   "metadata": {},
   "outputs": [],
   "source": []
  }
 ],
 "metadata": {
  "kernelspec": {
   "display_name": "Python 3",
   "language": "python",
   "name": "python3"
  },
  "language_info": {
   "codemirror_mode": {
    "name": "ipython",
    "version": 3
   },
   "file_extension": ".py",
   "mimetype": "text/x-python",
   "name": "python",
   "nbconvert_exporter": "python",
   "pygments_lexer": "ipython3",
   "version": "3.7.3"
  }
 },
 "nbformat": 4,
 "nbformat_minor": 4
}
