{
 "cells": [
  {
   "cell_type": "markdown",
   "metadata": {},
   "source": [
    "# Margaret Johnston\n",
    "\n",
    "Chapter 4, problems 1, 2"
   ]
  },
  {
   "cell_type": "code",
   "execution_count": 1,
   "metadata": {},
   "outputs": [],
   "source": [
    "# cgs unit, length unit is cm, mass unit is gram, time unit is second\n",
    "import numpy as np\n",
    "\n",
    "sigmacont=5.67051e-5\n",
    "acont=7.5657e-15\n",
    "ev=1.602e-12\n",
    "hcont=6.625e-27\n",
    "ccont=3.e10\n",
    "kcont=1.381e-16\n",
    "rcont=8.314472e7\n",
    "me=9.109e-28\n",
    "Gcont=6.67e-8\n",
    "Msun=1.989e33\n",
    "Mearth=5.972e27\n",
    "Mjupiter=1.898e30\n",
    "Lsun=3.827e33\n",
    "rsun=6.96e10\n",
    "rjupiter=7.149e9\n",
    "rearth=6.371e8\n",
    "au=1.49598e13\n",
    "pc=3.085678e18\n",
    "mh=1.67352e-24\n",
    "yr=365.*24.*3600\n",
    "pi=3.1415926"
   ]
  },
  {
   "cell_type": "markdown",
   "metadata": {},
   "source": [
    "1. In a fully degenerate gas, all the particles have energies lower than the Fermi energy. For such a gas we found the relation between density $n_e$ and the Fermi momentum $p_F$:\n",
    "\n",
    "$ n_e=\\frac{8\\pi}{3h^3}p_F^3 $\n",
    "\n",
    "a) For a nonrelativistic electron gas, use the relation $p_F=\\sqrt{2m_eE_F}$ to express $E_F$ in terms of $n_e$ and $m_e$.\n",
    "\n",
    "b) Estimate a characteristic $n_e$ under typical conditions inside a white dwarf. Using the resut of (a), and $T=10^7k$, evaluate numerically the ratio of $E_{th}/E_F$ to see that the electrons inside a white dwarf are indeed degenerate."
   ]
  },
  {
   "cell_type": "markdown",
   "metadata": {},
   "source": [
    "a) $E_F=\\frac{p_F^2}{2m_e}$ and $p_F=\\sqrt[3]{\\frac{3h^3n_e}{8\\pi}}$\n",
    "\n",
    "$E_F=\\frac{1}{2m_e}\\left(\\frac{3h^3n_e}{8\\pi}\\right)^{2/3}$"
   ]
  },
  {
   "cell_type": "markdown",
   "metadata": {},
   "source": [
    "b) $E_{th}=\\frac{3}{2}NkT$ and $n_e\\approx\\frac{\\rho}{2m_H}\\approx\\frac{10^6 g/cm^3}{2m_H}$\n",
    "\n",
    "$ \\frac{E_{th}}{E_F}=\\frac{3NkT}{4m_e}\\left(\\frac{3h^3(10^6)}{8\\pi(2m_H)}\\right)^{-2/3}$ "
   ]
  },
  {
   "cell_type": "code",
   "execution_count": 2,
   "metadata": {},
   "outputs": [
    {
     "name": "stdout",
     "output_type": "stream",
     "text": [
      "The ratio of the energies is 5.15e+51\n"
     ]
    }
   ],
   "source": [
    "E_ratio=((3*kcont*10e7)/(4*me))*((3*hcont**3*10e6)/(16*pi*mh))**(-2/3)\n",
    "print(\"The ratio of the energies is {:.2e}\".format(E_ratio))"
   ]
  },
  {
   "cell_type": "markdown",
   "metadata": {},
   "source": [
    "### In a degenerate gas, the thermal energy should be much lower than the Fermi energy. \n",
    "I'm not sure where I've gone wrong in this calculation."
   ]
  },
  {
   "cell_type": "markdown",
   "metadata": {},
   "source": [
    "2. The luminosity function of a population of objects is its observed distribution of luminosities. Whate dwarfs have a luminosity function of approximately $dN/dL \\approx L^{-1/4}$, with a cutoff below a luminosity $:L\\approx 3 \\times 10^{-5}L_{sun}$. Show that this follows from the properties of individual white dwarfs, as follows.\n",
    "\n",
    "a) To obtain the power-law dependence, assume that a constant rate of star formation leads to a constant rate of white-dwarf formation, $dN/dt$, from stars that complete their evolution. The white-dwarf luminosity depends primarily on temperature, as $L \\approx T^4$. Finally, from eq 4.57, the white-dwarf cooling rate can be roughly approximated as $dT/dt \\approx T^4$. Use the chain rule to combine these three relations and obtain the functional form of $dN/dL$\n",
    "\n",
    "b) As noted in section 4.2.3.3, the Universe has a finate age, and therefore the oldest white dwarfs are no cooler than $T\\approx 4000K$. The most common white dwarfs have a mass of $M\\approx 0.6 M_{sun}$, for which the radius is $R\\approx 8500km$. Use this input to obtain the low-luminoisty cutoff in the white-dwarf luminosity function."
   ]
  },
  {
   "cell_type": "markdown",
   "metadata": {},
   "source": [
    "a)\n",
    "\n",
    "$\\frac{dN}{dL}=\\frac{dN}{dt}\\frac{dt}{dT}\\frac{dT}{dL} \\\\\n",
    "\\frac{dN}{dL}=\\frac{dN}{dt}\\left(\\frac{8m_p}{3Mk 4\\pi r^2\\sigma}T^{-4}\\right)\\frac{1}{4\\pi r^2\\sigma}L^{1/4} \\\\\n",
    "\\frac{dN}{dL}=\\frac{dN}{dt}\\frac{8m_p}{3Mk}\\left(\\frac{1}{4\\pi r^2\\sigma}\\right)^2T^{-4}L^{1/4}$"
   ]
  },
  {
   "cell_type": "markdown",
   "metadata": {},
   "source": [
    "b)\n",
    "\n",
    "$\\frac{dN}{dL}=\\frac{dN}{dt}\\frac{8m_p}{3Mk}\\left(\\frac{1}{4\\pi r^2\\sigma}\\right)^2T^{-4}L^{1/4} \\\\\n",
    "\\frac{dN}{dL}=\\frac{dN}{dt}\\frac{8m_p}{3(0.6M_{sun})k}\\left(\\frac{1}{4\\pi R^2\\sigma}\\right)^2(4000)^{-4}L_{cutoff}^{1/4}$"
   ]
  },
  {
   "cell_type": "code",
   "execution_count": null,
   "metadata": {},
   "outputs": [],
   "source": []
  }
 ],
 "metadata": {
  "kernelspec": {
   "display_name": "Python 3",
   "language": "python",
   "name": "python3"
  },
  "language_info": {
   "codemirror_mode": {
    "name": "ipython",
    "version": 3
   },
   "file_extension": ".py",
   "mimetype": "text/x-python",
   "name": "python",
   "nbconvert_exporter": "python",
   "pygments_lexer": "ipython3",
   "version": "3.7.3"
  }
 },
 "nbformat": 4,
 "nbformat_minor": 4
}
