{
 "cells": [
  {
   "cell_type": "markdown",
   "metadata": {},
   "source": [
    "# Margaret Johnston\n",
    "\n",
    "Chapter 4, problem 10"
   ]
  },
  {
   "cell_type": "code",
   "execution_count": 1,
   "metadata": {},
   "outputs": [],
   "source": [
    "# cgs unit, length unit is cm, mass unit is gram, time unit is second\n",
    "import numpy as np\n",
    "\n",
    "sigmacont=5.67051e-5\n",
    "acont=7.5657e-15\n",
    "ev=1.602e-12\n",
    "hcont=6.625e-27\n",
    "ccont=3.e10\n",
    "kcont=1.381e-16\n",
    "rcont=8.314472e7\n",
    "me=9.109e-28\n",
    "Gcont=6.67e-8\n",
    "Msun=1.989e33\n",
    "Mearth=5.972e27\n",
    "Mjupiter=1.898e30\n",
    "Lsun=3.827e33\n",
    "rsun=6.96e10\n",
    "rjupiter=7.149e9\n",
    "rearth=6.371e8\n",
    "au=1.49598e13\n",
    "pc=3.085678e18\n",
    "mh=1.67352e-24\n",
    "yr=365.*24.*3600\n",
    "pi=3.1415926\n",
    "\n",
    "km=1e5\n",
    "day=24*3600"
   ]
  },
  {
   "cell_type": "markdown",
   "metadata": {},
   "source": [
    "A compact accreting object of mass $M$ is radiating at the Eddington luminosity corresponding to that mass\n",
    "\n",
    "$L_{E}=\\frac{4\\pi cGMm_p}{\\sigma_T}=1.3 \\times 10^{38} erg/s \\frac{M}{M_{sun}} $\n",
    "\n",
    "An astronaut wearing a white space suit is placed at rest at an arbitrary distance from the compact object. Assuming that the cross-sectional area of the atronaut's body is $A=1.5 m^2$, find the maximum allowed mass $m$ of the astronaut, in kg, if the radiation pressure is to support her from falling into the compact object.\n",
    "\n",
    "Hint: By definition, a proton at any distance from this object will float, its gravitational attraction to the object is balanced by the radiation pressure on nearby electrons. Consider the astronaut as a particle with mass $m$ and cross section eaqual to her geometric cross section, $2A$. Compare $m$ to $m_p$ and $2A$ to $\\sigma_T$."
   ]
  },
  {
   "cell_type": "markdown",
   "metadata": {},
   "source": [
    "We simply take the Eddington luminosity equation and solve for the proton mass, then substitute the new cross section of the astronaut to find the maximum mass she could be.\n",
    "\n",
    "$L_{E}=\\frac{4\\pi cGMm_p}{\\sigma_T}=1.3 \\times 10^{38} erg/s \\frac{M}{M_{sun}} \\\\\n",
    "\\frac{m_p}{\\sigma_T}=\\frac{L_E}{4\\pi c GM}=\\frac{L_E}{4\\pi c GM_{sun} \\\\\n",
    "\\frac{m}{2A}=\\frac{L_E}{4\\pi c GM} $\n"
   ]
  },
  {
   "cell_type": "code",
   "execution_count": 2,
   "metadata": {},
   "outputs": [
    {
     "name": "stdout",
     "output_type": "stream",
     "text": [
      "The mass of the astronaut must be less than 77.98 kg\n"
     ]
    }
   ],
   "source": [
    "m=(1.3e38)/(4*pi*ccont*Gcont*Msun)*2*1.5*(100)**2\n",
    "\n",
    "print(\"The mass of the astronaut must be less than {:.2f} kg\".format(m/1000))"
   ]
  },
  {
   "cell_type": "code",
   "execution_count": null,
   "metadata": {},
   "outputs": [],
   "source": []
  }
 ],
 "metadata": {
  "kernelspec": {
   "display_name": "Python 3",
   "language": "python",
   "name": "python3"
  },
  "language_info": {
   "codemirror_mode": {
    "name": "ipython",
    "version": 3
   },
   "file_extension": ".py",
   "mimetype": "text/x-python",
   "name": "python",
   "nbconvert_exporter": "python",
   "pygments_lexer": "ipython3",
   "version": "3.7.3"
  }
 },
 "nbformat": 4,
 "nbformat_minor": 4
}
