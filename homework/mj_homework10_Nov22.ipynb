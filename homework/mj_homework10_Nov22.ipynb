{
 "cells": [
  {
   "cell_type": "markdown",
   "metadata": {},
   "source": [
    "# Margaret Johnston\n",
    "\n",
    "Chapter 9 problem 3"
   ]
  },
  {
   "cell_type": "code",
   "execution_count": 43,
   "metadata": {},
   "outputs": [],
   "source": [
    "# cgs unit, length unit is cm, mass unit is gram, time unit is second\n",
    "import numpy as np\n",
    "import matplotlib.pyplot as plt\n",
    "\n",
    "sigmacont=5.67051e-5\n",
    "acont=7.5657e-15\n",
    "ev=1.602e-12\n",
    "hcont=6.625e-27\n",
    "ccont=3.e10\n",
    "kcont=1.381e-16\n",
    "rcont=8.314472e7\n",
    "me=9.109e-28\n",
    "Gcont=6.67e-8\n",
    "Msun=1.989e33\n",
    "Mearth=5.972e27\n",
    "Mjupiter=1.898e30\n",
    "Lsun=3.827e33\n",
    "rsun=6.96e10\n",
    "rjupiter=7.149e9\n",
    "rearth=6.371e8\n",
    "au=1.49598e13\n",
    "pc=3.085678e18\n",
    "mh=1.67352e-24\n",
    "yr=365.*24.*3600\n",
    "pi=3.1415926\n",
    "\n",
    "km=1e5\n",
    "day=24*3600\n",
    "qe=1.602176634e-20\n",
    "kpc=1000*pc\n",
    "Mpc=1000*kpc\n",
    "Gyr=yr*1e9"
   ]
  },
  {
   "cell_type": "markdown",
   "metadata": {},
   "source": [
    "9.3\n",
    "\n",
    "For the cosmology of $k=0$, $\\Omega_{\\Lambda}=1$, find the comoving radius $r_{eh}$ of galaxies that will be on our event horizon at a time $t$ in the future. (Light signals sent by us at time $t$ will never reach those galaxies, light signals sent out by those galaxies at time $t$ will never reach us, and therefore we will never see those galaxies as they appeared at time $t$ and after.)\n",
    "\n",
    "a)\n",
    "\n",
    "Show that, in this case, $r_{eh}$ shrinks exponentially, and we thus lose the possibility of communication with more and more of our neighbors.\n",
    "\n",
    "b)\n",
    "\n",
    "Assume that $H_{0}=70km/s/Mpc$ and find within how many years will the galaxies in the Virgo cluster ($R=15Mpc/R_{0}$) reach the event horizon."
   ]
  },
  {
   "cell_type": "markdown",
   "metadata": {},
   "source": [
    "a)\n",
    "\n",
    "$\\int_{0}^{r_{eh}}R_{0}dr=\\int_{t}^{\\infty}ce^{-H_{0}t}dt \\\\\n",
    "R_{0}(r_{eh}-0)=c\\frac{-1}{H_{0}}(0-e^{-H_{0}t}) \\\\\n",
    "r_{eh}=\\frac{c}{H_{0}R_{0}}e^{-H_{0}t}$"
   ]
  },
  {
   "cell_type": "markdown",
   "metadata": {},
   "source": [
    "b)\n",
    "\n",
    "$r_{eh}=\\frac{c}{H_{0}R_{0}}e^{-H_{0}t} \\\\\n",
    "\\frac{H_{0}R_{0}r_{eh}}{c}=e^{-H_{0}t} \\\\\n",
    "ln(\\frac{H_{0}R_{0}r_{eh}}{c})=-H_{0}t \\\\\n",
    "t=\\frac{-1}{H_{0}}ln(\\frac{H_{0}R_{0}r_{eh}}{c}) \\\\\n",
    "t=\\frac{-1}{(70km/s/Mpc)}ln(\\frac{(70km/s/Mpc)R_{0}(15Mpc/R_{0)}}{3\\times10^{5}km/s}) \\\\\n",
    "t=\\frac{-1}{(70km/s/Mpc)}ln(\\frac{(70)(15)}{3\\times10^{5}})$"
   ]
  },
  {
   "cell_type": "code",
   "execution_count": 46,
   "metadata": {},
   "outputs": [
    {
     "name": "stdout",
     "output_type": "stream",
     "text": [
      "it will take 79 Gyr for the Virgo cluster to reach the event horizon\n"
     ]
    }
   ],
   "source": [
    "t=(-1)/(70*km/Mpc)*np.log(70*15/3e5)\n",
    "print(\"it will take {:.0f} Gyr for the Virgo cluster to reach the event horizon\".format(t/Gyr))"
   ]
  },
  {
   "cell_type": "code",
   "execution_count": null,
   "metadata": {},
   "outputs": [],
   "source": []
  }
 ],
 "metadata": {
  "kernelspec": {
   "display_name": "Python 3",
   "language": "python",
   "name": "python3"
  },
  "language_info": {
   "codemirror_mode": {
    "name": "ipython",
    "version": 3
   },
   "file_extension": ".py",
   "mimetype": "text/x-python",
   "name": "python",
   "nbconvert_exporter": "python",
   "pygments_lexer": "ipython3",
   "version": "3.7.3"
  }
 },
 "nbformat": 4,
 "nbformat_minor": 4
}
