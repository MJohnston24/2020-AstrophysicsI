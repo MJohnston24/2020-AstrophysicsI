{
 "cells": [
  {
   "cell_type": "markdown",
   "metadata": {},
   "source": [
    "# Margaret Johnston\n",
    "\n",
    "\n",
    "Problem 4 of Chapter 2\n",
    "\n",
    "The maximal radial velocities measured for the two components of a spectroscopic binary are 100 and 200 km s$^{-2}$, with an orbital period of 2 days. The orbits are circular."
   ]
  },
  {
   "cell_type": "markdown",
   "metadata": {},
   "source": [
    "a. Find the mass ratio of the two stars."
   ]
  },
  {
   "cell_type": "markdown",
   "metadata": {},
   "source": [
    "$ \\frac{m_1}{m_2} = \\frac{v_2}{v_1}$"
   ]
  },
  {
   "cell_type": "code",
   "execution_count": 2,
   "metadata": {},
   "outputs": [
    {
     "name": "stdout",
     "output_type": "stream",
     "text": [
      "M1/M2 =  2.0\n"
     ]
    }
   ],
   "source": [
    "m_ratio = 200/100\n",
    "print(\"M1/M2 = \",m_ratio)"
   ]
  },
  {
   "cell_type": "markdown",
   "metadata": {},
   "source": [
    "b. Use Kepler's law (Eq 2.42) to calculate the value of $M sin^3i$ for each star, where $M$ is the mass and $i$ is the inclination to the observer's line of sight of the perpendicular to the orbital plane."
   ]
  },
  {
   "cell_type": "markdown",
   "metadata": {},
   "source": [
    "$ (M_1 + M_2) sin^3 i = \\frac{\\tau (|v_{1,obs}|+|v_{2,obs}|)^3}{2 \\pi G} $"
   ]
  },
  {
   "cell_type": "code",
   "execution_count": 3,
   "metadata": {},
   "outputs": [
    {
     "name": "stdout",
     "output_type": "stream",
     "text": [
      "M_tot sin^3 i = 5.60 solar masses\n",
      "M_1 sin^3 i = 3.73 solar masses\n",
      "M_2 sin^3 i = 1.87 solar masses\n"
     ]
    }
   ],
   "source": [
    "m_sini3 = ((2*24*3600)*((100+200)*100000)**3)/(2*pi*Gcont)/Msun\n",
    "print(\"M_tot sin^3 i = \"+\"{:.2f}\".format(m_sini3),\"solar masses\")\n",
    "m1_sini3 = m_sini3*2/3\n",
    "m2_sini3 = m_sini3*1/3\n",
    "\n",
    "print(\"M_1 sin^3 i = \"+\"{:.2f}\".format(m1_sini3),\"solar masses\")\n",
    "print(\"M_2 sin^3 i = \"+\"{:.2f}\".format(m2_sini3),\"solar masses\")"
   ]
  },
  {
   "cell_type": "markdown",
   "metadata": {},
   "source": [
    "c. Calculate the mean expectation value for the factor $sin^3i$, the mean value it would have among an ensenble of binaries with random inclinations. Find the masses of the two stars if $sin^3i$ has its mean value\n",
    "\n",
    "Hint: in spherical coordinates, integrate over the solid angle of a sphere where the observer is in the direction of the z-axis, with each solid angle element weighted by sin$^3 \\theta$"
   ]
  },
  {
   "cell_type": "markdown",
   "metadata": {},
   "source": [
    "$ \\langle sin^3i \\rangle = \\int sin^3\\theta \\space d\\Omega $\n",
    "\n",
    "$ \\langle sin^3i \\rangle = \\int_0^{2\\pi}\\int_0^{\\pi} sin^3\\theta \\space sin\\theta d\\theta \\space d\\phi $\n",
    "\n",
    "$ \\langle sin^3i \\rangle = \\int_0^{2\\pi} d\\phi \\space \\int_0^{\\pi} sin^4\\theta \\space d\\theta $\n",
    "\n",
    "$ \\langle sin^3i \\rangle = 2 \\pi \\frac{3 \\pi}{8} = \\frac{3 \\pi^2}{4} $"
   ]
  },
  {
   "cell_type": "code",
   "execution_count": 7,
   "metadata": {},
   "outputs": [
    {
     "name": "stdout",
     "output_type": "stream",
     "text": [
      "M_1 = 0.50 solar masses\n",
      "M_2 = 0.25 solar masses\n"
     ]
    }
   ],
   "source": [
    "m1 = m1_sini3/(3*pi**2/4)\n",
    "m2 = m2_sini3/(3*pi**2/4)\n",
    "\n",
    "print(\"M_1 = \"+\"{:.2f}\".format(m1),\"solar masses\")\n",
    "print(\"M_2 = \"+\"{:.2f}\".format(m2),\"solar masses\")"
   ]
  },
  {
   "cell_type": "code",
   "execution_count": 1,
   "metadata": {},
   "outputs": [],
   "source": [
    "# cgs unit, length unit is cm, mass unit is gram, time unit is second\n",
    "import numpy as np\n",
    "\n",
    "sigmacont=5.67051e-5\n",
    "acont=7.5657e-15\n",
    "ev=1.602e-12\n",
    "hcont=6.625e-27\n",
    "ccont=3.e10\n",
    "kcont=1.381e-16\n",
    "rcont=8.314472e7\n",
    "me=9.109e-28\n",
    "Gcont=6.67e-8\n",
    "Msun=1.989e33\n",
    "Mearth=5.972e27\n",
    "Mjupiter=1.898e30\n",
    "Lsun=3.827e33\n",
    "rsun=6.96e10\n",
    "rjupiter=7.149e9\n",
    "rearth=6.371e8\n",
    "au=1.49598e13\n",
    "pc=3.085678e18\n",
    "mh=1.67352e-24\n",
    "yr=365.*24.*3600\n",
    "pi=3.1415926"
   ]
  }
 ],
 "metadata": {
  "kernelspec": {
   "display_name": "Python 3",
   "language": "python",
   "name": "python3"
  },
  "language_info": {
   "codemirror_mode": {
    "name": "ipython",
    "version": 3
   },
   "file_extension": ".py",
   "mimetype": "text/x-python",
   "name": "python",
   "nbconvert_exporter": "python",
   "pygments_lexer": "ipython3",
   "version": "3.7.3"
  }
 },
 "nbformat": 4,
 "nbformat_minor": 4
}
