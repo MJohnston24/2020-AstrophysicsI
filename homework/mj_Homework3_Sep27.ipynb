{
 "cells": [
  {
   "cell_type": "markdown",
   "metadata": {},
   "source": [
    "# Margaret Johnston\n",
    "\n",
    "Chapter 3, problems 2, 4, 6"
   ]
  },
  {
   "cell_type": "code",
   "execution_count": 1,
   "metadata": {},
   "outputs": [],
   "source": [
    "# cgs unit, length unit is cm, mass unit is gram, time unit is second\n",
    "import numpy as np\n",
    "\n",
    "sigmacont=5.67051e-5\n",
    "acont=7.5657e-15\n",
    "ev=1.602e-12\n",
    "hcont=6.625e-27\n",
    "ccont=3.e10\n",
    "kcont=1.381e-16\n",
    "rcont=8.314472e7\n",
    "me=9.109e-28\n",
    "Gcont=6.67e-8\n",
    "Msun=1.989e33\n",
    "Mearth=5.972e27\n",
    "Mjupiter=1.898e30\n",
    "Lsun=3.827e33\n",
    "rsun=6.96e10\n",
    "rjupiter=7.149e9\n",
    "rearth=6.371e8\n",
    "au=1.49598e13\n",
    "pc=3.085678e18\n",
    "mh=1.67352e-24\n",
    "yr=365.*24.*3600\n",
    "pi=3.1415926"
   ]
  },
  {
   "cell_type": "markdown",
   "metadata": {},
   "source": [
    "2. The pressure inside a star is given by\n",
    "\n",
    "$ P=P_{g}+P_{rad}=\\frac{\\rho kT}{\\bar{m}}+\\frac{1}{3}aT^{4} $\n",
    "\n",
    "Using parameters approapriate to the Sun, show that throughout the sun, including to the core, where the internal temperature is about $10^{7}$K, the kinetic pressure dominates."
   ]
  },
  {
   "cell_type": "markdown",
   "metadata": {},
   "source": [
    "It is easiest to show which pressure dominates by calculating the ratio of the pressures:\n",
    "\n",
    "$ \\frac{P_g}{P_{rad}}=\\frac{\\rho kT/\\bar{m}}{aT^4/3}=\\frac{3\\rho k}{\\bar{m}aT^3} $\n",
    "\n",
    "At the core of the sum, $\\bar{m}=0.85m_H$ and $\\rho=150 g/cm^2$, so when we plug in solar values we get the expected result, the ratio is greater than 1."
   ]
  },
  {
   "cell_type": "code",
   "execution_count": 6,
   "metadata": {},
   "outputs": [
    {
     "name": "stdout",
     "output_type": "stream",
     "text": [
      "The ratio of the pressures is: 5.77e+00\n"
     ]
    }
   ],
   "source": [
    "p_ratio = (3*150*kcont)/((.85*mh)*acont*(10e7)**3)\n",
    "print(\"The ratio of the pressures is: {:.2e}\".format(p_ratio))"
   ]
  },
  {
   "cell_type": "markdown",
   "metadata": {},
   "source": [
    "4. Consider a hypothetical star of radius $R$, with constant density $\\rho$. The star is composed of a classical, nonrelativistic, ideal gas of fully ionized hydrogen.\n",
    "\n",
    "a) Solve the equations of stellar structure for the pressure profile, $P(r)$, with the boundary condition $P(R)=0$.\n",
    "\n",
    "b) Find the temperature profile, $T(r)$\n",
    "\n",
    "c) Assume the nuclear energy production rate depends on temperature as $\\epsilon \\sim T^{4}$. At what radius does $\\epsilon$ decreases to 0.1 of its central value, and what fraction of the star's volume is included within this radius?"
   ]
  },
  {
   "cell_type": "markdown",
   "metadata": {},
   "source": [
    "a) Starting from the hydrostatic equilibrium equation:\n",
    "\n",
    "$ P(r)=-\\frac{G M(r) \\rho(r)}{r^2} $\n",
    "\n",
    "We need only the mass of the outer shell, from r out to R\n",
    "\n",
    "$ P(r)=-G\\rho \\int_r^R \\frac{M(r')}{r'^2}dr' \\\\\n",
    "=-G\\rho \\int_r^R\\frac{\\frac{4\\pi}{3}r'^3 \\rho}{r'^2}dr' \\\\\n",
    "=-\\frac{4\\pi}{3}G\\rho^2 \\int_r^Rr'dr' \\\\\n",
    "=-\\frac{4\\pi}{3}G\\rho^2 (\\frac{1}{2}r'^2 |_r^R \\\\\n",
    "P(r)=-\\frac{2\\pi}{3}G\\rho^2 \\left(R^2-r^2\\right) $\n",
    "\n",
    "And we can confirm the boundary condition $P(R)=0$:\n",
    "\n",
    "$ P(R)=-\\frac{2\\pi}{3}G\\rho^2 \\left(R^2-R^2\\right) \\\\\n",
    "P(R)=0$"
   ]
  },
  {
   "cell_type": "markdown",
   "metadata": {},
   "source": [
    "b) Using the ideal gas law:\n",
    "\n",
    "$ P=\\frac{\\rho}{\\bar{m}}kT \\rightarrow T=\\frac{P\\bar{m}}{\\rho k} $\n",
    "\n",
    "Including $\\bar{m}=m_H/2$ for a fully ionized gas of Hydrogen and the pressure profile from part a, we get\n",
    "\n",
    "$ T(r)=\\frac{m_H}{2\\rho k}\\frac{2\\pi}{3}G\\rho^2(R^2-r^2) \\\\\n",
    "T(r)=\\frac{\\pi m_HG\\rho}{3 k}(R^2-r^2) $"
   ]
  },
  {
   "cell_type": "markdown",
   "metadata": {},
   "source": [
    "c) To find $r_c$ which satisfies $\\epsilon(r_c)=0.1\\epsilon(r=0)$ we need $T(r_c)=(0.1)^{1/4}T(r=0)$\n",
    "\n",
    "$ T(r=0)=\\frac{\\pi m_HG\\rho}{3 k}R^2 $\n",
    "\n",
    "$ T(r_c)=(0.1)^{1/4}\\left(\\frac{\\pi m_HG\\rho}{3 k}R^2\\right) $\n",
    "\n",
    "so $(R^2-r_c^2)=(0.1)^{1/4}R^2$\n",
    "\n",
    "$ r_c=\\sqrt{R^2-(0.1)^{1/4}R^2}=R\\sqrt{1- (0.1)^{1/4}}$"
   ]
  },
  {
   "cell_type": "code",
   "execution_count": 15,
   "metadata": {},
   "outputs": [
    {
     "name": "stdout",
     "output_type": "stream",
     "text": [
      "the enclosed radius is 0.66R\n"
     ]
    }
   ],
   "source": [
    "r_c=(1-0.1**(1/4))**(1/2)\n",
    "print(\"the enclosed radius is {:0.2f}R\".format(r_c))"
   ]
  },
  {
   "cell_type": "markdown",
   "metadata": {},
   "source": [
    "$ V_{enc}=\\frac{r_c^3}{R^3}V=(1- (0.1)^{1/4})^{3/2}V $"
   ]
  },
  {
   "cell_type": "code",
   "execution_count": 17,
   "metadata": {},
   "outputs": [
    {
     "name": "stdout",
     "output_type": "stream",
     "text": [
      "the enclosed volume is 0.29V\n"
     ]
    }
   ],
   "source": [
    "v_c=(1-0.1**(1/4))**(3/2)\n",
    "print(\"the enclosed volume is {:0.2f}V\".format(v_c))"
   ]
  },
  {
   "cell_type": "markdown",
   "metadata": {},
   "source": [
    "6. Consider a star of mass $M=10M_{sun}$, composed entirely of fully ionized $^{12}C$. Its core temperature is $T_{c}=6 \\times 10^{8}$ K.\n",
    "\n",
    "a) What is the mean particle mass $\\bar{m}$, in units of $m_{H}$?\n",
    "\n",
    "b) Use the classical ideal gas law, the deminsional relation between mass, density, and radius, and the virial theorem to find the scaling factor of the stellar radius $r_{star}$, with total mass $M$, mean particle mass $\\bar{m}$, and core temperature $T_{c}$. Using the valuse of these parameters for the sun, derive the radius of the star.\n",
    "\n",
    "c) If the lumunosity of the star is $L=10^{7}L_{sun}$, what is the effective surface temperature?\n",
    "\n",
    "d) Suppose the star produces energy via the reaction \n",
    "\n",
    "$ ^{12}C+^{12}C\\rightarrow ^{24}Mg $\n",
    "\n",
    "The atomic weight of $^{12}C$ is 12, and that of $^{24}Mg$ is 23.985. What fraction of the star's mass can be converted into thermal energy?\n",
    "\n",
    "e) How much time does it take for the star to use up 10% of its carbon?\n"
   ]
  },
  {
   "cell_type": "markdown",
   "metadata": {},
   "source": [
    "a) $ ^{12}C\\rightarrow 12m_H+6m_e $\n",
    "\n",
    "$ \\bar{m}=\\frac{n(12m_p)+6nm_e}{n+6n}\\\\\n",
    "\\bar{m}=\\frac{12}{7}m_H $"
   ]
  },
  {
   "cell_type": "markdown",
   "metadata": {},
   "source": [
    "b) $ \\rho=\\frac{M}{r^3} \\\\\n",
    "P=\\frac{\\rho}{\\bar{m}}kT=\\frac{M}{\\bar{m}r^3}kT \\\\\n",
    "\\bar{P}=\\frac{1}{3}\\frac{E_{grav}}{V}=\\frac{M^2}{r^4}$\n",
    "\n",
    "$\\frac{M}{\\bar{m}r^3}kT=\\frac{M^2}{r^4} \\\\\n",
    "r=\\frac{M\\bar{m}}{kT_c}$"
   ]
  },
  {
   "cell_type": "code",
   "execution_count": 41,
   "metadata": {},
   "outputs": [
    {
     "name": "stdout",
     "output_type": "stream",
     "text": [
      "the radius of the star is 9894519.9 solar radii\n",
      "This is clearly far too large, but I don't see where my mistake is\n"
     ]
    }
   ],
   "source": [
    "r=(12*mh*10*Msun)/(7*kcont*6e8)\n",
    "print(\"the radius of the star is {:0.1f} solar radii\".format(r/rsun))\n",
    "print(\"This is clearly far too large, but I don't see where my mistake is\")"
   ]
  },
  {
   "cell_type": "markdown",
   "metadata": {},
   "source": [
    "c) $ L=4 \\pi R^2 \\sigma T_{eff}^4 \\\\\n",
    "T_{eff}^4=\\frac{L}{4\\pi R^2 \\sigma} $"
   ]
  },
  {
   "cell_type": "code",
   "execution_count": 43,
   "metadata": {},
   "outputs": [
    {
     "name": "stdout",
     "output_type": "stream",
     "text": [
      "the effective temperature is 183.4 K\n",
      "Since this depends on R, this value is also bad\n"
     ]
    }
   ],
   "source": [
    "T_eff=((10e7*Lsun)/(4*pi*r**2*sigmacont))**(1/4)\n",
    "print(\"the effective temperature is {:0.1f} K\".format(T_eff))\n",
    "print(\"Since this depends on R, this value is also bad\")"
   ]
  },
  {
   "cell_type": "markdown",
   "metadata": {},
   "source": [
    "d) $ ^{12}C+^{12}C\\rightarrow ^{24}Mg \\\\ \n",
    "\\Delta m=24Da-23.985Da$"
   ]
  },
  {
   "cell_type": "code",
   "execution_count": 45,
   "metadata": {},
   "outputs": [
    {
     "name": "stdout",
     "output_type": "stream",
     "text": [
      "the star could convert up to 0.063% of it's mass\n"
     ]
    }
   ],
   "source": [
    "dm=24-23.985\n",
    "dm_percent=dm/24*100\n",
    "print(\"the star could convert up to {:0.3f}% of it's mass\".format(dm_percent))"
   ]
  },
  {
   "cell_type": "markdown",
   "metadata": {},
   "source": [
    "e) $\\tau =\\frac{0.1 Mc^2 \\eta_{fusion}}{L}$"
   ]
  },
  {
   "cell_type": "code",
   "execution_count": 46,
   "metadata": {},
   "outputs": [
    {
     "name": "stdout",
     "output_type": "stream",
     "text": [
      "the star would burn 10% of its mass in 0.000 years\n"
     ]
    }
   ],
   "source": [
    "tau=0.1*ccont**2*dm_percent/(10e7*Lsun)/yr\n",
    "print(\"the star would burn 10% of its mass in {:0.3f} years\".format(tau))"
   ]
  },
  {
   "cell_type": "code",
   "execution_count": null,
   "metadata": {},
   "outputs": [],
   "source": []
  }
 ],
 "metadata": {
  "kernelspec": {
   "display_name": "Python 3",
   "language": "python",
   "name": "python3"
  },
  "language_info": {
   "codemirror_mode": {
    "name": "ipython",
    "version": 3
   },
   "file_extension": ".py",
   "mimetype": "text/x-python",
   "name": "python",
   "nbconvert_exporter": "python",
   "pygments_lexer": "ipython3",
   "version": "3.7.3"
  }
 },
 "nbformat": 4,
 "nbformat_minor": 4
}
