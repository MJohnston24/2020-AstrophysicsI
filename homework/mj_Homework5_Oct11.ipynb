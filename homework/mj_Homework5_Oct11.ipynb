{
 "cells": [
  {
   "cell_type": "markdown",
   "metadata": {},
   "source": [
    "# Margaret Johnston\n",
    "\n",
    "Chapter 4, problem 4"
   ]
  },
  {
   "cell_type": "code",
   "execution_count": 22,
   "metadata": {},
   "outputs": [],
   "source": [
    "# cgs unit, length unit is cm, mass unit is gram, time unit is second\n",
    "import numpy as np\n",
    "\n",
    "sigmacont=5.67051e-5\n",
    "acont=7.5657e-15\n",
    "ev=1.602e-12\n",
    "hcont=6.625e-27\n",
    "ccont=3.e10\n",
    "kcont=1.381e-16\n",
    "rcont=8.314472e7\n",
    "me=9.109e-28\n",
    "Gcont=6.67e-8\n",
    "Msun=1.989e33\n",
    "Mearth=5.972e27\n",
    "Mjupiter=1.898e30\n",
    "Lsun=3.827e33\n",
    "rsun=6.96e10\n",
    "rjupiter=7.149e9\n",
    "rearth=6.371e8\n",
    "au=1.49598e13\n",
    "pc=3.085678e18\n",
    "mh=1.67352e-24\n",
    "yr=365.*24.*3600\n",
    "pi=3.1415926\n",
    "\n",
    "km=1e5\n",
    "day=24*3600"
   ]
  },
  {
   "cell_type": "markdown",
   "metadata": {},
   "source": [
    "4. A type-1a supernova is the termonuclear explosion of a white dwarf, possibly after the white dwarf has accreted matter and approached or reached the Chandrasekhar limit.\n",
    "\n",
    "a) Use the virial theorem to obtain an expression for the mean pressure inside a white dwarf of mass $M$ and radius $R$."
   ]
  },
  {
   "cell_type": "markdown",
   "metadata": {},
   "source": [
    "$\\bar{p}=\\frac{1}{3}\\frac{U_{grav}}{V} \\\\\n",
    "\\bar{p}=\\frac{GM^2}{3R^4} $"
   ]
  },
  {
   "cell_type": "markdown",
   "metadata": {},
   "source": [
    "b) Use the result of (a) to estimate, to an order of magnitude, the speed of sound, $v_s=\\sqrt{\\frac{dP}{d\\rho}} \\approx \\sqrt{\\frac{P}{\\rho}}$, inside a white dwarf. In an accreting white dwarf with a carbon core that has reached nuclear ignition temperature, a nuclear burning\"flame\" encompasses the star at the sound velocity of faster. Within how much time, in seconds, does the flame traverse the radius of the white dwarf, assuming $R=10^4$km, $M=1.4M_{sun}$? "
   ]
  },
  {
   "cell_type": "markdown",
   "metadata": {},
   "source": [
    "$v_s=\\sqrt{\\frac{\\bar{p}}{\\rho}}=\\sqrt{\\frac{GM^2/3R^4}{M/R^3}}=\\sqrt{\\frac{GM}{3R}} $"
   ]
  },
  {
   "cell_type": "code",
   "execution_count": 61,
   "metadata": {},
   "outputs": [
    {
     "name": "stdout",
     "output_type": "stream",
     "text": [
      "The sound speed is 2.49e+08 cm/s\n"
     ]
    }
   ],
   "source": [
    "vs=((Gcont*1.4*Msun)/(3*1e4*km))**(1/2)\n",
    "print(\"The sound speed is {:.2e} cm/s\".format(vs))"
   ]
  },
  {
   "cell_type": "markdown",
   "metadata": {},
   "source": [
    "$t_{blast}=\\frac{R}{v_s} $"
   ]
  },
  {
   "cell_type": "code",
   "execution_count": 63,
   "metadata": {},
   "outputs": [
    {
     "name": "stdout",
     "output_type": "stream",
     "text": [
      "The time for the wave to get to the surface is 4.02 s\n"
     ]
    }
   ],
   "source": [
    "t_blast=(1e4*km)/vs\n",
    "print(\"The time for the wave to get to the surface is {:.2f} s\".format(t_blast))"
   ]
  },
  {
   "cell_type": "markdown",
   "metadata": {},
   "source": [
    "c) Calculate the total energy output, in ergs, of the explosion, assuming that the entire mass of the white dwarf is synthesized from carbon to nickel, with a mass-to-energy conversion efficiency of 0.1%. Compare this energy to the gravitational binding energy of the white dwarf, to demonstrate that the white dwarf is disrupted completely, without leaving any remnant."
   ]
  },
  {
   "cell_type": "markdown",
   "metadata": {},
   "source": [
    "$E_{synth}=(0.1\\%)Mc^2 $\n",
    "\n",
    "$U_{grav}=\\frac{GM^2}{R} $"
   ]
  },
  {
   "cell_type": "code",
   "execution_count": 64,
   "metadata": {},
   "outputs": [
    {
     "name": "stdout",
     "output_type": "stream",
     "text": [
      "The ratio of energies is 1.35e+34 \n",
      "This is much greater than 1, so the energy from nucleosynthesis destroys the white dwarf\n"
     ]
    }
   ],
   "source": [
    "E_synth=0.001*1.4*Msun*ccont**2\n",
    "U_grav=Gcont*1.4*Msun/(1e4*km)\n",
    "print(\"The ratio of energies is {:.2e} \".format(E_synth/U_grav))\n",
    "print(\"This is much greater than 1, so the energy from nucleosynthesis destroys the white dwarf\")"
   ]
  },
  {
   "cell_type": "markdown",
   "metadata": {},
   "source": [
    "d) Gamma rays from the radioactive decays $^{56}Ni \\rightarrow ^{56}Co + \\gamma \\rightarrow ^{56}Fe +\\gamma$ drive all of the optical luminosity of a type-1a supernova. Calculate the total energy radiated in the optical range during the event. Show that the typical luminosity is $\\approx 10^{10}L_{sun}$"
   ]
  },
  {
   "cell_type": "markdown",
   "metadata": {},
   "source": [
    "$\\Delta E=(m_{Fe}-m_{Ni})c^2 $\n",
    "\n",
    "$E=\\Delta E \\times N=\\Delta E\\frac{1.4M_{sun}}{m_carbon} $"
   ]
  },
  {
   "cell_type": "code",
   "execution_count": 41,
   "metadata": {},
   "outputs": [
    {
     "name": "stdout",
     "output_type": "stream",
     "text": [
      "The energy from one decay is 1.11e-02 erg\n",
      "The total energy released is 2.76e+35 erg\n",
      "The luminosity is 72.05611 L_sun\n"
     ]
    }
   ],
   "source": [
    "dE=(55.942135-55.934941)/(931.5e6)*ccont**2*ev\n",
    "print(\"The energy from one decay is {:.2e} erg\".format(dE))\n",
    "\n",
    "m_carbon=35.09406e6*ev\n",
    "N_nuc=1.4*Msun/m_carbon\n",
    "Etot=dE*N_nuc/2\n",
    "print(\"The total energy released is {:.2e} erg\".format(Etot))\n",
    "print(\"The luminosity is {:.5f} L_sun\".format(Etot/Lsun))"
   ]
  },
  {
   "cell_type": "markdown",
   "metadata": {},
   "source": [
    "e) It takes a type-Ia supernova about 17 days from exposion to reaching its maximum brightness. Show that this timescale corresponds to the time that it takes for light to diffuse, in a random walk, through an expanding shell of gas. The shell has a mass $M=1.4M_{sun}$, a constant expansion velocity of $v=3\\times 10^4$ km/s, and an atomic-line opacity of $\\kappa \\approx 0.3$ cm$^2$/g. Thus, the \"light-curve rise time\" is just the time it takes for the radioactive decay luminosity from the entire shell to become visible. After this point, the supernova fades with time, still powered by the exponentially declining liminosity of the radioactive decay of the expanding mass, but now fully visible."
   ]
  },
  {
   "cell_type": "code",
   "execution_count": 73,
   "metadata": {},
   "outputs": [
    {
     "name": "stdout",
     "output_type": "stream",
     "text": [
      "to escape the sun, a photon takes 1.16e+02 days\n"
     ]
    }
   ],
   "source": [
    "l=1/0.3\n",
    "N_step =(1e4*km/l)**2\n",
    "t_escape = N_step*l/ccont\n",
    "print('to escape the sun, a photon takes {:.2e} days'.format(t_escape/day))"
   ]
  },
  {
   "cell_type": "code",
   "execution_count": null,
   "metadata": {},
   "outputs": [],
   "source": []
  }
 ],
 "metadata": {
  "kernelspec": {
   "display_name": "Python 3",
   "language": "python",
   "name": "python3"
  },
  "language_info": {
   "codemirror_mode": {
    "name": "ipython",
    "version": 3
   },
   "file_extension": ".py",
   "mimetype": "text/x-python",
   "name": "python",
   "nbconvert_exporter": "python",
   "pygments_lexer": "ipython3",
   "version": "3.7.3"
  }
 },
 "nbformat": 4,
 "nbformat_minor": 4
}
