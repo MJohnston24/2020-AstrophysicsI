{
 "cells": [
  {
   "cell_type": "markdown",
   "metadata": {},
   "source": [
    "# Margaret Johnston\n",
    "\n",
    "Chapter 6 problem 2a, problem 3, chapter 7 problem 4"
   ]
  },
  {
   "cell_type": "code",
   "execution_count": 9,
   "metadata": {},
   "outputs": [],
   "source": [
    "# cgs unit, length unit is cm, mass unit is gram, time unit is second\n",
    "import numpy as np\n",
    "\n",
    "sigmacont=5.67051e-5\n",
    "acont=7.5657e-15\n",
    "ev=1.602e-12\n",
    "hcont=6.625e-27\n",
    "ccont=3.e10\n",
    "kcont=1.381e-16\n",
    "rcont=8.314472e7\n",
    "me=9.109e-28\n",
    "Gcont=6.67e-8\n",
    "Msun=1.989e33\n",
    "Mearth=5.972e27\n",
    "Mjupiter=1.898e30\n",
    "Lsun=3.827e33\n",
    "rsun=6.96e10\n",
    "rjupiter=7.149e9\n",
    "rearth=6.371e8\n",
    "au=1.49598e13\n",
    "pc=3.085678e18\n",
    "mh=1.67352e-24\n",
    "yr=365.*24.*3600\n",
    "pi=3.1415926\n",
    "\n",
    "km=1e5\n",
    "day=24*3600\n",
    "qe=1.602176634e-20\n",
    "kpc=1000*pc"
   ]
  },
  {
   "cell_type": "markdown",
   "metadata": {},
   "source": [
    "Ch 6 2a\n",
    "\n",
    "A star is transited by a planet. From the measured period $\\tau$ and the transit duration $t_{dur}$ alone, show that one can obtain an upper bound on the density of the star $\\rho_{*,max}=\\frac{3\\tau}{G\\pi^{2}t_{dur}^{3}}$.\n",
    "\n",
    "Hint: Combine Kepler's law and eq. 6.7 to eliminate the separation $a$, and then extract the density of the spherical star. Assume an impact barameter $b=0$."
   ]
  },
  {
   "cell_type": "markdown",
   "metadata": {},
   "source": [
    "eq 6.7\n",
    "\n",
    "$t_{dur}=\\frac{r_{*}\\tau}{\\pi a}\\sqrt{1-b^{2}}$\n",
    "\n",
    "Using Kepler's third law\n",
    "\n",
    "$\\frac{a^{3}}{\\tau^{2}}=\\frac{G(M+m)}{4\\pi^{2}}\\approx\\frac{GM}{4\\pi^{2}}$\n",
    "\n",
    "$a=\\sqrt[3]{\\frac{GM}{4\\pi^{2}}\\tau^{2}}$\n",
    "\n",
    "We substitute $a$ and assume $b=0$ to find the density as a function of $t_{dur}$ and $\\tau$\n",
    "\n",
    "$t_{dur}=\\frac{(\\frac{3}{4\\pi}V)^{1/3}\\tau}{\\pi\\sqrt[3]{\\frac{GM}{4\\pi^{2}}\\tau^{2}}}\\sqrt{1-0^{2}}$\n",
    "\n",
    "$t_{dur}=(\\frac{1}{M/V})^{1/3}\\tau^{1/3}\\frac{1}{\\sqrt[3]{\\pi^{3}\\frac{4\\pi}{3}\\frac{G}{4\\pi^{2}}}}$\n",
    "\n",
    "$t_{dur}=(\\frac{1}{\\rho})^{1/3}\\tau^{1/3}(\\frac{G\\pi^{2}}{3})^{-1/3}$\n",
    "\n",
    "$\\rho^{1/3}=\\frac{1}{t_{dur}}\\tau^{1/3}\\left(\\frac{G\\pi^{2}}{3}\\right)^{-1/3}$\n",
    "\n",
    "$\\rho=\\frac{\\tau}{t_{dur}^{3}}\\frac{3}{G\\pi^{2}}$"
   ]
  },
  {
   "cell_type": "code",
   "execution_count": null,
   "metadata": {},
   "outputs": [],
   "source": []
  },
  {
   "cell_type": "markdown",
   "metadata": {},
   "source": [
    "Ch 6 3\n",
    "\n",
    "A gravitational lens of mass $M$ is halfway along the line between a source and an observer, at a distance $d$ from each, and produces an Einstein ring. Find the angular radius of the ring $\\theta_{E}$, in terms of $M$ adn $d$. For a one-Solar-mass lens, at which distance $d$ will the Einstein ring's radius appear larger than a Solar radius (i.e., the ring will not be hidden behind a Sun-like star acting as the lense)?"
   ]
  },
  {
   "cell_type": "markdown",
   "metadata": {},
   "source": [
    "eq 6.17\n",
    "\n",
    "$\\theta_{E}=0.64\\times10^{3}arcsec(\\frac{M}{M_{sun}})^{1/2}(\\frac{D_{ol}}{10kpc})^{-1/2}=0.64\\times10^{3}arcsec(\\frac{d}{10kpc})^{-1/2}$\n",
    "\n",
    "We need to find when $\\theta_{E}=\\theta_{sun}$\n",
    "\n",
    "$\\theta_{sun}=\\frac{R_{sun}}{d}$\n",
    "\n",
    "$\\theta_{sun}=\\theta_{E}\\rightarrow\\frac{R_{sun}}{d}=0.64\\times10^{3}arcsec(\\frac{d}{10kpc})^{-1/2}$\n",
    "\n",
    "$\\frac{R_{sun}}{0.64\\times10^{3}}=d(\\frac{d}{10kpc})^{-1/2}$\n",
    "\n",
    "$\\frac{R_{sun}}{0.64\\times10^{3}}=(10kpc\\,d)^{1/2}$\n",
    "\n",
    "$d=\\left(\\frac{R_{sun}}{0.64\\times10^{3}}\\right)^{2}(\\frac{1}{10kpc})$"
   ]
  },
  {
   "cell_type": "code",
   "execution_count": 35,
   "metadata": {},
   "outputs": [
    {
     "name": "stdout",
     "output_type": "stream",
     "text": [
      "the distance where the Einstein ring is not hidden by the sun is 1.18e+12 pc\n"
     ]
    }
   ],
   "source": [
    "d=((rsun)/0.64e3)**2*1e-4\n",
    "print(\"the distance where the Einstein ring is not hidden by the sun is {:.2e} pc\".format(d))"
   ]
  },
  {
   "cell_type": "markdown",
   "metadata": {},
   "source": [
    "Ch 7 4\n",
    "\n",
    "We calculated the probability that a star in the LMC is gravitationally lensed by MACHOs composing the Galaxy's dark halo. Repeat theis calculation, but for star-star lensing in the direction of the galaxy center, i.e., estimate to an order of magnitude the probability that a star in the bulge of our galaxy will be gravitationally lensed by another star in the galactic disk that is close to our line of sight to the bulge star. \n",
    "\n",
    "Assume that we are at a distance $r=8kpc$ from the bulge, a typical stellar mass is $0.5M_{sun}$, the stellar mass in the disk interior to the solar radius is $5\\times10^{10}M_{sun}$, and the thickness of the disk is $2h=1kpc$."
   ]
  },
  {
   "cell_type": "markdown",
   "metadata": {},
   "source": [
    "Taking eq 7.24\n",
    "\n",
    "$N\\approx\\frac{GM_{dm}}{lc^{2}}$\n",
    "\n",
    "$N\\approx\\frac{G(5\\times10^{10}M_{sun})}{(8kpc)c^{2}}$"
   ]
  },
  {
   "cell_type": "code",
   "execution_count": 27,
   "metadata": {},
   "outputs": [
    {
     "name": "stdout",
     "output_type": "stream",
     "text": [
      "the probability of a star-star lensing event is approximately 2.99e-07\n",
      "this probability is about 10% of the MACHO lensing probability calculated on page 198\n"
     ]
    }
   ],
   "source": [
    "N=(Gcont*5e10*Msun)/(8000*pc*ccont**2)\n",
    "print(\"the probability of a star-star lensing event is approximately {:.2e}\".format(N))\n",
    "print(\"this probability is about 10% of the MACHO lensing probability calculated on page 198\")"
   ]
  },
  {
   "cell_type": "code",
   "execution_count": null,
   "metadata": {},
   "outputs": [],
   "source": []
  }
 ],
 "metadata": {
  "kernelspec": {
   "display_name": "Python 3",
   "language": "python",
   "name": "python3"
  },
  "language_info": {
   "codemirror_mode": {
    "name": "ipython",
    "version": 3
   },
   "file_extension": ".py",
   "mimetype": "text/x-python",
   "name": "python",
   "nbconvert_exporter": "python",
   "pygments_lexer": "ipython3",
   "version": "3.7.3"
  }
 },
 "nbformat": 4,
 "nbformat_minor": 4
}
