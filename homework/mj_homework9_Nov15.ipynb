{
 "cells": [
  {
   "cell_type": "markdown",
   "metadata": {},
   "source": [
    "# Margaret Johnston\n",
    "\n",
    "Chapter 8 problem 3, chapter 9 problem 1, problem 2"
   ]
  },
  {
   "cell_type": "code",
   "execution_count": 5,
   "metadata": {},
   "outputs": [],
   "source": [
    "# cgs unit, length unit is cm, mass unit is gram, time unit is second\n",
    "import numpy as np\n",
    "\n",
    "sigmacont=5.67051e-5\n",
    "acont=7.5657e-15\n",
    "ev=1.602e-12\n",
    "hcont=6.625e-27\n",
    "ccont=3.e10\n",
    "kcont=1.381e-16\n",
    "rcont=8.314472e7\n",
    "me=9.109e-28\n",
    "Gcont=6.67e-8\n",
    "Msun=1.989e33\n",
    "Mearth=5.972e27\n",
    "Mjupiter=1.898e30\n",
    "Lsun=3.827e33\n",
    "rsun=6.96e10\n",
    "rjupiter=7.149e9\n",
    "rearth=6.371e8\n",
    "au=1.49598e13\n",
    "pc=3.085678e18\n",
    "mh=1.67352e-24\n",
    "yr=365.*24.*3600\n",
    "pi=3.1415926\n",
    "\n",
    "km=1e5\n",
    "day=24*3600\n",
    "qe=1.602176634e-20\n",
    "kpc=1000*pc\n",
    "Mpc=1000*kpc"
   ]
  },
  {
   "cell_type": "markdown",
   "metadata": {},
   "source": [
    "8.3\n",
    "\n",
    "In the Sunyaev-Zeldovich effect, photons from the CMB are compton upscattered by hot electrons in a cluster along the line of sight. Assume 0.001 of the photons are scattered, and the mass of the cluster is $2\\times10^{14}M_{sun}$, of which 15% is in the hot gas (H II $\\rightarrow m_{gas}=3\\times10^{13}M_{sun}$).\n",
    "\n",
    "a) Find the diameter of the cluster. \n",
    "Use the Thomspon cross section to represent the cress section for compton scattering and assume the cluster is spherical and of constant density.\n",
    "\n",
    "b) If the angular diameter of the cluster is 1 degree, what is its distance?\n",
    "\n",
    "c) If the cluster velocity of recession is 8400 km/s, what is the Hubble parameter, in units of km/s/Mpc?"
   ]
  },
  {
   "cell_type": "markdown",
   "metadata": {},
   "source": [
    "a)\n",
    "\n",
    "$D_{cluster}=\\frac{\\Delta E}{E}\\frac{m_{e}c^{2}}{kT_{e}}\\frac{1}{\\sigma_{T}n_{e}}$"
   ]
  },
  {
   "cell_type": "code",
   "execution_count": 15,
   "metadata": {},
   "outputs": [
    {
     "name": "stdout",
     "output_type": "stream",
     "text": [
      "the size of the cluster is 2.48 Mpc\n"
     ]
    }
   ],
   "source": [
    "# a)\n",
    "gam_c = 0.001\n",
    "kT_e = 10*1000*ev\n",
    "ne = 0.01\n",
    "sigmat = 6.7e-25\n",
    "\n",
    "d_cluster=gam_c*(me*ccont**2/kT_e)*(1/(sigmat*ne))\n",
    "print(\"the size of the cluster is {:.2f} Mpc\".format(d_cluster/Mpc))"
   ]
  },
  {
   "cell_type": "code",
   "execution_count": 16,
   "metadata": {},
   "outputs": [
    {
     "name": "stdout",
     "output_type": "stream",
     "text": [
      "the cluster is approximately 142 Mpc away\n"
     ]
    }
   ],
   "source": [
    "# b)\n",
    "theta = 1/180*pi \n",
    "r_cluster=d_cluster/theta\n",
    "print(\"the cluster is approximately {:.0f} Mpc away\".format(r_cluster/Mpc))"
   ]
  },
  {
   "cell_type": "code",
   "execution_count": 17,
   "metadata": {},
   "outputs": [
    {
     "name": "stdout",
     "output_type": "stream",
     "text": [
      "the value of H0 is approximately 59 km/s/Mpc\n"
     ]
    }
   ],
   "source": [
    "# c)\n",
    "v=8400\n",
    "H0=v/(r_cluster/Mpc)\n",
    "print(\"the value of H0 is approximately {:.0f} km/s/Mpc\".format(H0))"
   ]
  },
  {
   "cell_type": "markdown",
   "metadata": {},
   "source": [
    "9.1\n",
    "\n",
    "Show that the current proper distance to our particle horizon is $r_hR_0=3ct_0$.\n",
    "Where the particle horizon is defined as the most distant place we can see in principle, the universe is matter-dominated $k=0$, has no cosmilogical constant $\\Lambda=0$, $r_h$ is the comoving radial coordinate, $R_0$ is the scale factor today, and $t_0$ is the present age of the universe.\n"
   ]
  },
  {
   "cell_type": "markdown",
   "metadata": {},
   "source": [
    "$ds_{photon}^{2}=0=c^{2}dt^{2}-R(t)^{2}\\frac{dr^{2}}{1-kr^{2}} \\\\\n",
    "0=cdt-R_{0}(\\frac{t}{t_{0}})^{1/3}dr \\\\\n",
    "R_{0}dr=c\\frac{t}{t_{0}}^{-1/3}dt \\\\\n",
    "\\int_{0}^{r_{h}}R_{0}dr=\\int_{0}^{t_{0}}c\\frac{t}{t_{0}}^{-1/3}dt \\\\\n",
    "R_{0}(r_{h}-0)=ct_{0}3(\\frac{t_{0}}{t_{0}}^{2/3}-0^{2/3}) \\\\\n",
    "r_{h}R_{0}=3ct_{0}$"
   ]
  },
  {
   "cell_type": "markdown",
   "metadata": {},
   "source": [
    "We can expect that the actual particle horizon will be larger than the naive $ct_0$ because the objects that emit the light we detect are not stationary. After distant galaxies emit light, they continue to move away as the universe expands so by the time that light reaches us, the objects (and so the particle horizon) are further away than the distance the light had to travel ($ct_0$)."
   ]
  },
  {
   "cell_type": "markdown",
   "metadata": {},
   "source": [
    "9.2\n",
    "\n",
    "For a $k=0$ universe with $\\Omega_{\\Lambda}=1$, that at $t=0$ already has a scale $R_0$, find the comoving radial coordinate, $r_h$, of galaxies that will be on the particle horizon at a time $t$ in the future. Show that in this case $r_h \\rightarrow \\frac{c}{H_0R_0}$ and therefore galaxies beyond this $r_h$ will never become visible."
   ]
  },
  {
   "cell_type": "markdown",
   "metadata": {},
   "source": [
    "$ds_{photon}^{2}=0=c^{2}dt^{2}-(R_{0}e^{H_{0}t})^{2}dr^{2} \\\\\n",
    "R_{0}e^{H_{0}t}dr=cdt \\\\\n",
    "\\int_{0}^{r_{h}}R_{0}dr=\\int_{0}^{t_{0}}ce^{-H_{0}t}dt \\\\\n",
    "R_{0}(r_{h}-0)=c\\frac{-1}{H_{0}}(e^{-H_{0}t_{0}}-1) \\\\\n",
    "r_{h}=\\frac{c}{H_{0}R_{0}}(1-e^{-H_{0}t_{0}}) \\\\\n",
    "r_{h}\\rightarrow\\frac{c}{H_{0}R_{0}} $"
   ]
  },
  {
   "cell_type": "code",
   "execution_count": null,
   "metadata": {},
   "outputs": [],
   "source": []
  }
 ],
 "metadata": {
  "kernelspec": {
   "display_name": "Python 3",
   "language": "python",
   "name": "python3"
  },
  "language_info": {
   "codemirror_mode": {
    "name": "ipython",
    "version": 3
   },
   "file_extension": ".py",
   "mimetype": "text/x-python",
   "name": "python",
   "nbconvert_exporter": "python",
   "pygments_lexer": "ipython3",
   "version": "3.7.3"
  }
 },
 "nbformat": 4,
 "nbformat_minor": 4
}
